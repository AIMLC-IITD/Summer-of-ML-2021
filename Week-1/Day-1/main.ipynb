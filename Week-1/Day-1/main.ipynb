{
  "nbformat": 4,
  "nbformat_minor": 0,
  "metadata": {
    "colab": {
      "name": "Workshop1_Linear_Algebra_Prob_Stats.ipynb",
      "provenance": [],
      "collapsed_sections": [
        "kPwaM4FvZDt2",
        "HflpDn7NhcP4",
        "WwwUwdQdkfrE",
        "AznLpH9rklez",
        "lIFc3gN-TnLM",
        "L5jYLy_YXK2l",
        "9QHhIAikZOXL",
        "1x_aXOuQm8VV",
        "5hKDlG4_qBps",
        "eHFXT9r6vkK8",
        "WaH2LAjh2P5X",
        "6UIFUDs0vBgi"
      ]
    },
    "kernelspec": {
      "name": "python3",
      "display_name": "Python 3"
    },
    "language_info": {
      "name": "python"
    }
  },
  "cells": [
    {
      "cell_type": "markdown",
      "metadata": {
        "id": "jfoRSgBVWcdd"
      },
      "source": [
        "# Summer of ML | 2021\n",
        "\n",
        "A 3-week series of workshops and a hackathon covering different topics in the fundamentals of ML.\n",
        "\n",
        "---"
      ]
    },
    {
      "cell_type": "markdown",
      "metadata": {
        "id": "LQyepX72Wzal"
      },
      "source": [
        "# Workshop 1: Linear Algebra & Probability-Statistics\n",
        "\n",
        "### Instructor: [Pramit Das](https://www.linkedin.com/in/pramit-das-b1747054/)\n",
        "\n",
        "In this workshop, we will be covering basic concepts related to the mathematics involved in Machine Learning. \n",
        "\n",
        "In the first part, we plan to learn the fundamental uses of Eigen values, matrix factorization and how we use those notions in ML. \n",
        "In the second part, we intend to go over some basic statistical distributions and a very simple yet useful technique called Naive Bayes Classification.\n"
      ]
    },
    {
      "cell_type": "markdown",
      "metadata": {
        "id": "kPwaM4FvZDt2"
      },
      "source": [
        "## Part 1: Linear Algebra"
      ]
    },
    {
      "cell_type": "markdown",
      "metadata": {
        "id": "HflpDn7NhcP4"
      },
      "source": [
        "### **Singular Value Decomposition (SVD)**"
      ]
    },
    {
      "cell_type": "markdown",
      "metadata": {
        "id": "BTdxt753ZQez"
      },
      "source": [
        "In order to extract information from a given matrix, we can use the SVD to obtain 3 arrays which can be multiplied to obtain the original matrix A. From the theory of linear algebra, given a matrix \n",
        ", the following product can be computed:\n",
        "\n",
        "<div align=\"center\">\n",
        " $ U\\Sigma V^T  = A$\n",
        "</div>\n",
        "\n",
        "where U and V are orthogonal and $ \\Sigma $ is the same size as A. $ \\Sigma $ is a diagonal matrix and contains the [singular values](https://www.mathworks.com/content/dam/mathworks/mathworks-dot-com/moler/eigs.pdf) of A, organized from largest to smallest. These values are always non-negative and can be used as an indicator of the “importance” of some features represented by the matrix  $ A $ .\n",
        "\n",
        "The problem of finding matrices U, V and $ \\Sigma $ given any matrix A is known as **Singular Value Decomposition**.\n",
        "\n",
        "---\n",
        "\n",
        "Numpy provides an easy and effecient function to directly get the singular decomposition of any matrix"
      ]
    },
    {
      "cell_type": "code",
      "metadata": {
        "colab": {
          "base_uri": "https://localhost:8080/"
        },
        "id": "6_yeva3qWZAF",
        "outputId": "143ab242-c869-4f69-9426-1db23b1a1053"
      },
      "source": [
        "import numpy as np\n",
        "\n",
        "A = np.asarray([[1, 0, 0], [0, 1, 0]])\n",
        "\n",
        "U, s, Vt = np.linalg.svd(A)\n",
        "\n",
        "# s is a space efficient representation of the diagonal matrix\n",
        "# the next 3 lines convert s to the actual matrix Sigma\n",
        "Sigma = np.zeros((A.shape))\n",
        "for i in range(s.shape[0]):\n",
        "    Sigma[i, i] = s[i]\n",
        "\n",
        "\n",
        "# Ignore -- only to make output \n",
        "print(\"The original matrix is: \\n\", A)\n",
        "print(\"\\nThe SVD is: \\n\", U, \"\\n * \\n\", Sigma, \"\\n * \\n\", Vt)"
      ],
      "execution_count": null,
      "outputs": [
        {
          "output_type": "stream",
          "text": [
            "The original matrix is: \n",
            " [[1 0 0]\n",
            " [0 1 0]]\n",
            "\n",
            "The SVD is: \n",
            " [[1. 0.]\n",
            " [0. 1.]] \n",
            " * \n",
            " [[1. 0. 0.]\n",
            " [0. 1. 0.]] \n",
            " * \n",
            " [[1. 0. 0.]\n",
            " [0. 1. 0.]\n",
            " [0. 0. 1.]]\n"
          ],
          "name": "stdout"
        }
      ]
    },
    {
      "cell_type": "code",
      "metadata": {
        "colab": {
          "base_uri": "https://localhost:8080/"
        },
        "id": "nyC4LyX4cooh",
        "outputId": "1f58af75-9ee0-4134-d44a-1e49a585bc53"
      },
      "source": [
        "print(\"U*Sigma*Vt is: \\n\", np.matmul(np.matmul(U, Sigma), Vt))"
      ],
      "execution_count": null,
      "outputs": [
        {
          "output_type": "stream",
          "text": [
            "U*Sigma*Vt is: \n",
            " [[1. 0. 0.]\n",
            " [0. 1. 0.]]\n"
          ],
          "name": "stdout"
        }
      ]
    },
    {
      "cell_type": "markdown",
      "metadata": {
        "id": "kEGr9uP6hRgL"
      },
      "source": [
        "Note that this is equal to the original matrix A.\n"
      ]
    },
    {
      "cell_type": "markdown",
      "metadata": {
        "id": "WwwUwdQdkfrE"
      },
      "source": [
        "### **QR Decomposition**"
      ]
    },
    {
      "cell_type": "markdown",
      "metadata": {
        "id": "nhJ9cR5WhkOL"
      },
      "source": [
        "Any real square matrix A may be decomposed as\n",
        "$ A=QR$\n",
        "where Q is an orthogonal matrix meaning $ Q^T = Q^{−1} $ and $ R$ is an upper triangular matrix. \n",
        "\n",
        "This is called QR decomposition.\n",
        "\n",
        "---\n",
        "Again, getting the QR decomposition is made much simpler by numpy."
      ]
    },
    {
      "cell_type": "code",
      "metadata": {
        "colab": {
          "base_uri": "https://localhost:8080/"
        },
        "id": "zE54F967hlu5",
        "outputId": "08642c0a-a721-4bc6-af0c-c9d1126cd8d5"
      },
      "source": [
        "import numpy as np\n",
        "\n",
        "A = np.asarray([[1, 2, 3], [0, 4, 5], [0, 0, 6]])\n",
        "Q, R = np.linalg.qr(A)\n",
        "\n",
        "\n",
        "print(Q)\n",
        "print(R)\n",
        "\n",
        "# Lets check whether the decomposition matrices are actually correct\n",
        "print(np.matmul(Q, R))"
      ],
      "execution_count": null,
      "outputs": [
        {
          "output_type": "stream",
          "text": [
            "[[1. 0. 0.]\n",
            " [0. 1. 0.]\n",
            " [0. 0. 1.]]\n",
            "[[1. 2. 3.]\n",
            " [0. 4. 5.]\n",
            " [0. 0. 6.]]\n",
            "[[1. 2. 3.]\n",
            " [0. 4. 5.]\n",
            " [0. 0. 6.]]\n"
          ],
          "name": "stdout"
        }
      ]
    },
    {
      "cell_type": "markdown",
      "metadata": {
        "id": "bmASsecSlPOy"
      },
      "source": [
        "Note that Q is orthogonal, R is upper triangular, and Q*R = A"
      ]
    },
    {
      "cell_type": "markdown",
      "metadata": {
        "id": "AznLpH9rklez"
      },
      "source": [
        "### **Principal Component Analysis (PCA)**"
      ]
    },
    {
      "cell_type": "markdown",
      "metadata": {
        "id": "SgjjaaL4kovV"
      },
      "source": [
        "Principal component analysis (PCA) is the process of computing the principal components and using them to perform a change of basis on the data, sometimes using only the first few principal components and ignoring the rest.\n",
        "\n",
        "The principal components are the directions where the data has the most variation. So the projections of the data upon a subset of these principle components can be a good representation for the entire data. \n",
        "\n",
        "PCA is very popular as a dimensionality reduction technique"
      ]
    },
    {
      "cell_type": "markdown",
      "metadata": {
        "id": "lIFc3gN-TnLM"
      },
      "source": [
        "#### **Basic Approach**"
      ]
    },
    {
      "cell_type": "markdown",
      "metadata": {
        "id": "kV6txobSTvgS"
      },
      "source": [
        "For any general $m*n $ matrix  $A$ (can be interpreted as having *m* rows of *n* dimensional vectors), PCA can be done as follows:\n",
        "\n",
        "1. Shift the values by their mean, let this be matrix $C$ (thus, the mean of each vector of $C$ is 0)\n",
        "2. Calculate the Covariance Matrix of $C$\n",
        "3. Get the Eigen vectors of the Covariance Matrix\n",
        "4. Get projections of the original data along these eigen vectors\n",
        "\n",
        "The eigen vectors obtained in step 3 are the principal components. "
      ]
    },
    {
      "cell_type": "code",
      "metadata": {
        "colab": {
          "base_uri": "https://localhost:8080/"
        },
        "id": "mXLWJb2ikmlO",
        "outputId": "bd9e5ea0-b41a-4185-c866-8a602661f926"
      },
      "source": [
        "import numpy as np\n",
        "\n",
        "# define a matrix\n",
        "A = np.asarray([[1, 2], [3, 4], [5, 6]])\n",
        "print(A)\n"
      ],
      "execution_count": null,
      "outputs": [
        {
          "output_type": "stream",
          "text": [
            "[[1 2]\n",
            " [3 4]\n",
            " [5 6]]\n"
          ],
          "name": "stdout"
        }
      ]
    },
    {
      "cell_type": "markdown",
      "metadata": {
        "id": "iY-udNqOREd6"
      },
      "source": [
        "1. Shift the values by their mean"
      ]
    },
    {
      "cell_type": "code",
      "metadata": {
        "colab": {
          "base_uri": "https://localhost:8080/"
        },
        "id": "iyvsUIAnQshu",
        "outputId": "bf687b47-9bc1-407b-99cb-bf849b6b0f72"
      },
      "source": [
        "Mean = np.mean(A.T, axis=1)\n",
        "C = A - Mean\n",
        "print(C)"
      ],
      "execution_count": null,
      "outputs": [
        {
          "output_type": "stream",
          "text": [
            "[[-2. -2.]\n",
            " [ 0.  0.]\n",
            " [ 2.  2.]]\n"
          ],
          "name": "stdout"
        }
      ]
    },
    {
      "cell_type": "markdown",
      "metadata": {
        "id": "VJ464C6eRJGQ"
      },
      "source": [
        "2. Calculate covariance matrix of mean-shifted matrix"
      ]
    },
    {
      "cell_type": "code",
      "metadata": {
        "colab": {
          "base_uri": "https://localhost:8080/"
        },
        "id": "laWFvJOmQwnT",
        "outputId": "ea9781bc-b1b7-4973-85e0-535cd9881460"
      },
      "source": [
        "Cov = np.cov(C.T)\n",
        "print(Cov)"
      ],
      "execution_count": null,
      "outputs": [
        {
          "output_type": "stream",
          "text": [
            "[[4. 4.]\n",
            " [4. 4.]]\n"
          ],
          "name": "stdout"
        }
      ]
    },
    {
      "cell_type": "markdown",
      "metadata": {
        "id": "t7i9Dm3kRM-a"
      },
      "source": [
        "3. Eigen-decomposition of covariance matrix"
      ]
    },
    {
      "cell_type": "code",
      "metadata": {
        "colab": {
          "base_uri": "https://localhost:8080/"
        },
        "id": "XxDPziMIQ-e2",
        "outputId": "65e32b48-5d60-415e-8f40-251b87e9b493"
      },
      "source": [
        "eigen_values, eigen_vectors = np.linalg.eig(V)\n",
        "print(eigen_vectors)\n",
        "print(eigen_values)"
      ],
      "execution_count": null,
      "outputs": [
        {
          "output_type": "stream",
          "text": [
            "[[ 0.70710678 -0.70710678]\n",
            " [ 0.70710678  0.70710678]]\n",
            "[8. 0.]\n"
          ],
          "name": "stdout"
        }
      ]
    },
    {
      "cell_type": "markdown",
      "metadata": {
        "id": "PmLKaVnlRShV"
      },
      "source": [
        "4. Projection of data into the principle components"
      ]
    },
    {
      "cell_type": "code",
      "metadata": {
        "colab": {
          "base_uri": "https://localhost:8080/"
        },
        "id": "2ocTR-tXRBuP",
        "outputId": "510086bd-cc3c-4928-a78d-2fa271f3f3d8"
      },
      "source": [
        "P = eigen_vectors.T.dot(C.T)\n",
        "print(P.T)"
      ],
      "execution_count": null,
      "outputs": [
        {
          "output_type": "stream",
          "text": [
            "[[-2.82842712  0.        ]\n",
            " [ 0.          0.        ]\n",
            " [ 2.82842712  0.        ]]\n"
          ],
          "name": "stdout"
        }
      ]
    },
    {
      "cell_type": "markdown",
      "metadata": {
        "id": "L5jYLy_YXK2l"
      },
      "source": [
        "#### **Using SKLearn**"
      ]
    },
    {
      "cell_type": "code",
      "metadata": {
        "colab": {
          "base_uri": "https://localhost:8080/"
        },
        "id": "CAqoR1XEXQ8w",
        "outputId": "5255c87d-9dce-49ca-a774-5e52b02658c3"
      },
      "source": [
        "from sklearn.decomposition import PCA\n",
        "\n",
        "# Using the same array as before for comparisions\n",
        "A = np.asarray([[1, 2], [3, 4], [5, 6]])\n",
        "\n",
        "pca = PCA(n_components=2)\n",
        "pca.fit(A)\n",
        "\n",
        "B = pca.transform(A)\n",
        "print(B)"
      ],
      "execution_count": null,
      "outputs": [
        {
          "output_type": "stream",
          "text": [
            "[[-2.82842712e+00 -2.22044605e-16]\n",
            " [ 0.00000000e+00  0.00000000e+00]\n",
            " [ 2.82842712e+00  2.22044605e-16]]\n"
          ],
          "name": "stdout"
        }
      ]
    },
    {
      "cell_type": "markdown",
      "metadata": {
        "id": "ffBBoIoFYM-X"
      },
      "source": [
        "Note that the final projections are the same as we obtained manually"
      ]
    },
    {
      "cell_type": "markdown",
      "metadata": {
        "id": "_6UFKkBlYSwJ"
      },
      "source": [
        "The library also allows you to separately get the principal components "
      ]
    },
    {
      "cell_type": "code",
      "metadata": {
        "colab": {
          "base_uri": "https://localhost:8080/"
        },
        "id": "dO5BfF-RYjLG",
        "outputId": "0bbd3a52-2b89-46ab-c3e6-47ba5a3ea012"
      },
      "source": [
        "component_directions = pca.components_\n",
        "component_values = pca.explained_variance_\n",
        "\n",
        "print(component_directions)\n",
        "print(component_values)"
      ],
      "execution_count": null,
      "outputs": [
        {
          "output_type": "stream",
          "text": [
            "[[ 0.70710678  0.70710678]\n",
            " [-0.70710678  0.70710678]]\n",
            "[8. 0.]\n"
          ],
          "name": "stdout"
        }
      ]
    },
    {
      "cell_type": "markdown",
      "metadata": {
        "id": "9QHhIAikZOXL"
      },
      "source": [
        "#### **Visualisation**"
      ]
    },
    {
      "cell_type": "markdown",
      "metadata": {
        "id": "rbLn8U5zZVCe"
      },
      "source": [
        "Lets try to visualise the principle components of some data.\n",
        "\n",
        "First, we will get data for visualisation. Using sklearn, we can get data of types we want"
      ]
    },
    {
      "cell_type": "code",
      "metadata": {
        "colab": {
          "base_uri": "https://localhost:8080/",
          "height": 265
        },
        "id": "XqvtoFo0ZLe0",
        "outputId": "6c755400-27c1-4d3a-c1b9-48765a7e64f9"
      },
      "source": [
        "from sklearn.datasets import make_blobs\n",
        "import matplotlib.pyplot as plt\n",
        "\n",
        "center = (0, 0)\n",
        "\n",
        "A, _ = make_blobs(n_samples=100, centers = [center])\n",
        "# making variations in y-axis larger so that differences in the components can be prominent\n",
        "A[:, 1] = 3 * A[:, 1]\n",
        "\n",
        "\n",
        "# Plotting stuff that is not important to know for this workshop\n",
        "plt.scatter(A[:, 0], A[:, 1])\n",
        "y_axes_boundaries = (1.1*np.min(A[:, 1]), 1.1*np.max(A[:, 1]))\n",
        "plt.ylim(y_axes_boundaries)\n",
        "plt.xlim(y_axes_boundaries)\n",
        "plt.show()"
      ],
      "execution_count": null,
      "outputs": [
        {
          "output_type": "display_data",
          "data": {
            "image/png": "[encoded data removed]",
            "text/plain": [
              "<Figure size 432x288 with 1 Axes>"
            ]
          },
          "metadata": {
            "tags": [],
            "needs_background": "light"
          }
        }
      ]
    },
    {
      "cell_type": "code",
      "metadata": {
        "colab": {
          "base_uri": "https://localhost:8080/",
          "height": 265
        },
        "id": "QQh9DpNca8Pw",
        "outputId": "fc859658-6a5a-4f4b-e475-066386d823dc"
      },
      "source": [
        "pca = PCA(n_components=2)\n",
        "pca.fit(A)\n",
        "\n",
        "# getting the principal components\n",
        "component_vectors = pca.components_\n",
        "component_values = np.sqrt(pca.explained_variance_)\n",
        "components = component_vectors / (np.sqrt(component_values))\n",
        "\n",
        "# scaling the components jus for clearer visualisation\n",
        "components = 5*components\n",
        "\n",
        "center = (0, 0)\n",
        "centers = [center for i in range(0, components.shape[0])]\n",
        "\n",
        "# Plotting stuff that is not important to know for this workshop\n",
        "plt.scatter(A[:, 0], A[:, 1])\n",
        "plt.quiver(*centers, components[:,0], components[:,1], scale=21)\n",
        "plt.ylim(y_axes_boundaries)\n",
        "plt.xlim(y_axes_boundaries)\n",
        "plt.show()"
      ],
      "execution_count": null,
      "outputs": [
        {
          "output_type": "display_data",
          "data": {
            "image/png": "[encoded data removed]",
            "text/plain": [
              "<Figure size 432x288 with 1 Axes>"
            ]
          },
          "metadata": {
            "tags": [],
            "needs_background": "light"
          }
        }
      ]
    },
    {
      "cell_type": "markdown",
      "metadata": {
        "id": "h5GBtLd3Y_eh"
      },
      "source": [
        "Note that these are the same as the eigen values and vectors we obtained using the basic method"
      ]
    },
    {
      "cell_type": "markdown",
      "metadata": {
        "id": "1x_aXOuQm8VV"
      },
      "source": [
        "## Part 2: Probability and Statistics"
      ]
    },
    {
      "cell_type": "markdown",
      "metadata": {
        "id": "5hKDlG4_qBps"
      },
      "source": [
        "### Gaussian (Normal) Distributions"
      ]
    },
    {
      "cell_type": "markdown",
      "metadata": {
        "id": "PRHTt7vuuCMg"
      },
      "source": [
        "A Normal Distribution follows the probability density function: \n",
        "\n",
        "$ \\Large f(x) = \\frac{1}{\\sigma \\sqrt{2\\pi}}  e^{-\\frac{1}{2}\\cdot (\\frac{x-\\mu}{\\sigma})^2} $ \n",
        "\n",
        "where $ \\mu$ is the mean of the distribution and $\\sigma $ is the standard deviation"
      ]
    },
    {
      "cell_type": "code",
      "metadata": {
        "id": "QcynxyiFnAfi"
      },
      "source": [
        "import numpy as np\n",
        "\n",
        "# mean and standard deviation\n",
        "mu, sigma = 0, 0.1 \n",
        "s = np.random.normal(mu, sigma, 10000)"
      ],
      "execution_count": null,
      "outputs": []
    },
    {
      "cell_type": "code",
      "metadata": {
        "colab": {
          "base_uri": "https://localhost:8080/",
          "height": 265
        },
        "id": "qQD2X93iriCj",
        "outputId": "c9a25490-6b3d-495c-a3ec-5512bcaf464d"
      },
      "source": [
        "import matplotlib.pyplot as plt\n",
        "\n",
        "plt.hist(s, bins=50)\n",
        "plt.show()"
      ],
      "execution_count": null,
      "outputs": [
        {
          "output_type": "display_data",
          "data": {
            "image/png": "[encoded data removed]",
            "text/plain": [
              "<Figure size 432x288 with 1 Axes>"
            ]
          },
          "metadata": {
            "tags": [],
            "needs_background": "light"
          }
        }
      ]
    },
    {
      "cell_type": "code",
      "metadata": {
        "colab": {
          "base_uri": "https://localhost:8080/",
          "height": 1000
        },
        "id": "kZRLuSAvrsfz",
        "outputId": "501fcd54-2335-454d-ad51-175d7b24362f"
      },
      "source": [
        "for i in range(1, 6):\n",
        "    mu, sigma = 0, 0.1 \n",
        "    s = np.random.normal(mu, sigma, 10**i)\n",
        "\n",
        "    print(\"Gaussian distribution curve for \", 10**i, \" samples\")\n",
        "\n",
        "    plt.hist(s, bins=50)\n",
        "    plt.show()"
      ],
      "execution_count": null,
      "outputs": [
        {
          "output_type": "stream",
          "text": [
            "Gaussian distribution curve for  10  samples\n"
          ],
          "name": "stdout"
        },
        {
          "output_type": "display_data",
          "data": {
            "image/png": "[encoded data removed]",
            "text/plain": [
              "<Figure size 432x288 with 1 Axes>"
            ]
          },
          "metadata": {
            "tags": [],
            "needs_background": "light"
          }
        },
        {
          "output_type": "stream",
          "text": [
            "Gaussian distribution curve for  100  samples\n"
          ],
          "name": "stdout"
        },
        {
          "output_type": "display_data",
          "data": {
            "image/png": "[encoded data removed]",
            "text/plain": [
              "<Figure size 432x288 with 1 Axes>"
            ]
          },
          "metadata": {
            "tags": [],
            "needs_background": "light"
          }
        },
        {
          "output_type": "stream",
          "text": [
            "Gaussian distribution curve for  1000  samples\n"
          ],
          "name": "stdout"
        },
        {
          "output_type": "display_data",
          "data": {
            "image/png": "[encoded data removed]",
            "text/plain": [
              "<Figure size 432x288 with 1 Axes>"
            ]
          },
          "metadata": {
            "tags": [],
            "needs_background": "light"
          }
        },
        {
          "output_type": "stream",
          "text": [
            "Gaussian distribution curve for  10000  samples\n"
          ],
          "name": "stdout"
        },
        {
          "output_type": "display_data",
          "data": {
            "image/png": "[encoded data removed]",
            "text/plain": [
              "<Figure size 432x288 with 1 Axes>"
            ]
          },
          "metadata": {
            "tags": [],
            "needs_background": "light"
          }
        },
        {
          "output_type": "stream",
          "text": [
            "Gaussian distribution curve for  100000  samples\n"
          ],
          "name": "stdout"
        },
        {
          "output_type": "display_data",
          "data": {
            "image/png": "[encoded data removed]",
            "text/plain": [
              "<Figure size 432x288 with 1 Axes>"
            ]
          },
          "metadata": {
            "tags": [],
            "needs_background": "light"
          }
        }
      ]
    },
    {
      "cell_type": "markdown",
      "metadata": {
        "id": "j1Ri_DsbwAtT"
      },
      "source": [
        "As can be seen above, for small number of samples, the distributions seems random, but as the number of samples increases, a bell-shaped patterns appears"
      ]
    },
    {
      "cell_type": "code",
      "metadata": {
        "id": "jmLYULnYtTAK"
      },
      "source": [
        ""
      ],
      "execution_count": null,
      "outputs": []
    },
    {
      "cell_type": "markdown",
      "metadata": {
        "id": "eHFXT9r6vkK8"
      },
      "source": [
        "### Poisson Distribution"
      ]
    },
    {
      "cell_type": "markdown",
      "metadata": {
        "id": "7SECgHyHvDHn"
      },
      "source": [
        "A Poisson Distribution follows the probability density function: \n",
        "\n",
        "$ \\Large {f(k; \\lambda) = \\frac{\\lambda^k e^{-\\lambda}}{k!}} $ \n",
        "\n",
        "where $ \\lambda$ is the mean of the distribution and $k $ is the number of occurrences"
      ]
    },
    {
      "cell_type": "code",
      "metadata": {
        "id": "s0op0amUvmgg"
      },
      "source": [
        "import numpy as np\n",
        "\n",
        "lamda = 1000\n",
        "size = 1000\n",
        "poisson = np.random.poisson(lam=lamda, size=size)"
      ],
      "execution_count": null,
      "outputs": []
    },
    {
      "cell_type": "code",
      "metadata": {
        "colab": {
          "base_uri": "https://localhost:8080/",
          "height": 265
        },
        "id": "eAFEUOAvv_D5",
        "outputId": "a4d37461-02d5-433a-810b-6ec9832cbcf8"
      },
      "source": [
        "import matplotlib.pyplot as plt\n",
        "\n",
        "plt.hist(poisson, bins=50)\n",
        "plt.show()\n"
      ],
      "execution_count": null,
      "outputs": [
        {
          "output_type": "display_data",
          "data": {
            "image/png": "[encoded data removed]",
            "text/plain": [
              "<Figure size 432x288 with 1 Axes>"
            ]
          },
          "metadata": {
            "tags": [],
            "needs_background": "light"
          }
        }
      ]
    },
    {
      "cell_type": "code",
      "metadata": {
        "id": "AgD8GOTsyONp"
      },
      "source": [
        ""
      ],
      "execution_count": null,
      "outputs": []
    },
    {
      "cell_type": "markdown",
      "metadata": {
        "id": "WaH2LAjh2P5X"
      },
      "source": [
        "### Naive Bayes Classifier"
      ]
    },
    {
      "cell_type": "markdown",
      "metadata": {
        "id": "6UIFUDs0vBgi"
      },
      "source": [
        "#### **Iris Flower Species Classification**"
      ]
    },
    {
      "cell_type": "markdown",
      "metadata": {
        "id": "SefWoe67xLF0"
      },
      "source": [
        "The Data"
      ]
    },
    {
      "cell_type": "code",
      "metadata": {
        "colab": {
          "base_uri": "https://localhost:8080/"
        },
        "id": "v4MlKOmQwmS1",
        "outputId": "a304eeb1-899c-4a4a-af96-d1c0001230b3"
      },
      "source": [
        "!wget https://drive.google.com/uc?id=1yO9BDhqPVG9BkUN1B6gh5gxOX_0QBYN2 -O iris.csv"
      ],
      "execution_count": 3,
      "outputs": [
        {
          "output_type": "stream",
          "text": [
            "--2021-06-15 08:27:46--  https://drive.google.com/uc?id=1yO9BDhqPVG9BkUN1B6gh5gxOX_0QBYN2\n",
            "Resolving drive.google.com (drive.google.com)... 173.194.212.102, 173.194.212.100, 173.194.212.113, ...\n",
            "Connecting to drive.google.com (drive.google.com)|173.194.212.102|:443... connected.\n",
            "HTTP request sent, awaiting response... 302 Moved Temporarily\n",
            "Location: https://doc-0o-9c-docs.googleusercontent.com/docs/securesc/ha0ro937gcuc7l7deffksulhg5h7mbp1/9gol6t28ukhigsdkc50ne22blpus00jd/1623745650000/13054947803562741199/*/1yO9BDhqPVG9BkUN1B6gh5gxOX_0QBYN2 [following]\n",
            "Warning: wildcards not supported in HTTP.\n",
            "--2021-06-15 08:27:47--  https://doc-0o-9c-docs.googleusercontent.com/docs/securesc/ha0ro937gcuc7l7deffksulhg5h7mbp1/9gol6t28ukhigsdkc50ne22blpus00jd/1623745650000/13054947803562741199/*/1yO9BDhqPVG9BkUN1B6gh5gxOX_0QBYN2\n",
            "Resolving doc-0o-9c-docs.googleusercontent.com (doc-0o-9c-docs.googleusercontent.com)... 74.125.31.132, 2607:f8b0:400c:c02::84\n",
            "Connecting to doc-0o-9c-docs.googleusercontent.com (doc-0o-9c-docs.googleusercontent.com)|74.125.31.132|:443... connected.\n",
            "HTTP request sent, awaiting response... 200 OK\n",
            "Length: 4549 (4.4K) [text/csv]\n",
            "Saving to: ‘iris.csv’\n",
            "\n",
            "iris.csv            100%[===================>]   4.44K  --.-KB/s    in 0s      \n",
            "\n",
            "2021-06-15 08:27:47 (60.6 MB/s) - ‘iris.csv’ saved [4549/4549]\n",
            "\n"
          ],
          "name": "stdout"
        }
      ]
    },
    {
      "cell_type": "code",
      "metadata": {
        "colab": {
          "base_uri": "https://localhost:8080/"
        },
        "id": "58CJXTPcxd8H",
        "outputId": "9f901f95-877d-477c-f8ac-7701867a50bf"
      },
      "source": [
        "import pandas as pd\n",
        "\n",
        "data = pd.read_csv(\"iris.csv\", header = None)\n",
        "print(data.head())\n",
        "\n",
        "X = data[[0, 1, 2, 3]].values\n",
        "y = data[4].values\n",
        "\n",
        "print(X.shape)\n",
        "print(y.shape)\n",
        "\n",
        "X_train = X[:130, :]\n",
        "X_test = X[130:, :]\n",
        "\n",
        "y_train = y[:130]\n",
        "y_test = y[130:]"
      ],
      "execution_count": 100,
      "outputs": [
        {
          "output_type": "stream",
          "text": [
            "     0    1    2    3            4\n",
            "0  5.1  3.5  1.4  0.2  Iris-setosa\n",
            "1  4.9  3.0  1.4  0.2  Iris-setosa\n",
            "2  4.7  3.2  1.3  0.2  Iris-setosa\n",
            "3  4.6  3.1  1.5  0.2  Iris-setosa\n",
            "4  5.0  3.6  1.4  0.2  Iris-setosa\n",
            "(150, 4)\n",
            "(150,)\n"
          ],
          "name": "stdout"
        }
      ]
    },
    {
      "cell_type": "markdown",
      "metadata": {
        "id": "5BUivN7YxIii"
      },
      "source": [
        "**The Model**\n",
        "\n",
        "This is where the magic happens! Using Bayes' theorem, we obtain the probabilities of a given sample being of each classes, and classify it as being of the class with maximum probability!\n"
      ]
    },
    {
      "cell_type": "code",
      "metadata": {
        "id": "KJmGxnwL2WKU"
      },
      "source": [
        "import numpy as np\n",
        "class NaiveBayesClassifier:\n",
        "    \n",
        "    def __init__(self, X, y):\n",
        "        \n",
        "        '''\n",
        "        X and y denotes the features and the target labels respectively\n",
        "        '''\n",
        "        self.X, self.y = X, y \n",
        "        \n",
        "        self.N = len(self.X) # Length of the training set\n",
        "\n",
        "        self.dim = len(self.X[0]) # Dimension of the vector of features\n",
        "\n",
        "        self.attrs = [[] for _ in range(self.dim)] # Here we'll store the columns of the training set\n",
        "\n",
        "        self.output_dom = {} # Output classes with the number of ocurrences in the training set. In this case we have only 2 classes\n",
        "\n",
        "        self.data = [] # To store every row [Xi, yi]\n",
        "    \n",
        "    def train(self):\n",
        "        # Here, the frequencies of each classes and the data is stored\n",
        "        \n",
        "        for i in range(len(self.X)):\n",
        "            for j in range(self.dim):\n",
        "                # if we have never seen this value for this attr before, \n",
        "                # then we add it to the attrs array in the corresponding position\n",
        "                if not self.X[i][j] in self.attrs[j]:\n",
        "                    self.attrs[j].append(self.X[i][j])\n",
        "                    \n",
        "            # if we have never seen this output class before,\n",
        "            # then we add it to the output_dom and count one occurrence for now\n",
        "            if not self.y[i] in self.output_dom.keys():\n",
        "                self.output_dom[self.y[i]] = 1\n",
        "            # otherwise, we increment the occurrence of this output in the training set by 1\n",
        "            else:\n",
        "                self.output_dom[self.y[i]] += 1\n",
        "            # store the row\n",
        "            self.data.append([self.X[i], self.y[i]])\n",
        "            \n",
        "            \n",
        "\n",
        "    def classify(self, entry, hyp = [1, 1, 1, 0.1]):\n",
        "        # This is the main functin, where Baye's Theorem is being used\n",
        "        \n",
        "        solve = None # Final result\n",
        "        max_arg = -1 # partial maximum\n",
        "\n",
        "        for y in self.output_dom.keys():\n",
        "            # print(y)\n",
        "            prob = self.output_dom[y]/self.N # P(y)\n",
        "            # print(self.output_dom[y])\n",
        "            for i in range(self.dim):\n",
        "                n = 0\n",
        "                for sample in self.data:\n",
        "                    # Since, the numbers are fractions, instead of comparing equality,\n",
        "                    # some threshold is kept with the difference\n",
        "                    if (sample[0][i] - entry[i])**2 < hyp[i]**2 and sample[1] == y:\n",
        "                        n+=1\n",
        "                prob *= n/self.N \n",
        "                # P *= P(Xi = xi | yi = y)\n",
        "            # Here prob is the probability of the class being y    \n",
        "            # if we have a greater prob for this output than the partial maximum...\n",
        "            if prob > max_arg:\n",
        "                max_arg = prob\n",
        "                solve = y\n",
        "\n",
        "        return solve\n",
        "\n",
        "    def test(self, X_test, y_test, hyp = [1, 1, 1, 0.1]):\n",
        "        number_of_correct_samples = 0\n",
        "        total_number_samples = X_test.shape[0]\n",
        "        for i in range(0, total_number_samples):\n",
        "            prediction = self.classify(X_test[i, :], hyp)\n",
        "            if prediction == y_test[i]:\n",
        "                number_of_correct_samples += 1\n",
        "            # else:\n",
        "                # print(prediction, y_test[i])\n",
        "        print(\"The accuracy is: \", number_of_correct_samples/total_number_samples*100, \"%!\")\n",
        "        return number_of_correct_samples/total_number_samples*100\n",
        "\n"
      ],
      "execution_count": 103,
      "outputs": []
    },
    {
      "cell_type": "markdown",
      "metadata": {
        "id": "-N0WYiwvzxkT"
      },
      "source": [
        "Training"
      ]
    },
    {
      "cell_type": "code",
      "metadata": {
        "colab": {
          "base_uri": "https://localhost:8080/"
        },
        "id": "4N7MrAymzwil",
        "outputId": "d03ba140-d1d2-4ef4-8036-0ef5fb573e4a"
      },
      "source": [
        "trainer = NaiveBayesClassifier(X_train, y_train)\n",
        "\n",
        "trainer.train()\n",
        "\n",
        "accuracy = trainer.test(X_test, y_test)"
      ],
      "execution_count": 104,
      "outputs": [
        {
          "output_type": "stream",
          "text": [
            "The accuracy is:  85.0 %!\n"
          ],
          "name": "stdout"
        }
      ]
    }
  ]
}