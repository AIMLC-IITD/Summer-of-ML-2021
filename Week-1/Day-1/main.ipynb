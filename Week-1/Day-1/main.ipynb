{
  "nbformat": 4,
  "nbformat_minor": 0,
  "metadata": {
    "colab": {
      "name": "Workshop1_Linear_Algebra_Prob_Stats.ipynb",
      "provenance": [],
      "collapsed_sections": [
        "kPwaM4FvZDt2",
        "HflpDn7NhcP4",
        "WwwUwdQdkfrE",
        "AznLpH9rklez",
        "1x_aXOuQm8VV",
        "5hKDlG4_qBps",
        "eHFXT9r6vkK8"
      ]
    },
    "kernelspec": {
      "name": "python3",
      "display_name": "Python 3"
    },
    "language_info": {
      "name": "python"
    }
  },
  "cells": [
    {
      "cell_type": "markdown",
      "metadata": {
        "id": "jfoRSgBVWcdd"
      },
      "source": [
        "# Summer of ML | 2021\n",
        "\n",
        "A 3-week series of workshops and a hackathon covering different topics in the fundamentals of ML.\n",
        "\n",
        "---"
      ]
    },
    {
      "cell_type": "markdown",
      "metadata": {
        "id": "LQyepX72Wzal"
      },
      "source": [
        "# Workshop 1: Linear Algebra & Probability-Statistics\n",
        "\n",
        "### Instructor: [Pramit Das](https://www.linkedin.com/in/pramit-das-b1747054/)\n",
        "\n",
        "In this workshop, we will be covering basic concepts related to the mathematics involved in Machine Learning. \n",
        "\n",
        "In the first part, we plan to learn the fundamental uses of Eigen values, matrix factorization and how we use those notions in ML. \n",
        "In the second part, we intend to go over some basic statistical distributions and a very simple yet useful technique called Naive Bayes Classification.\n"
      ]
    },
    {
      "cell_type": "markdown",
      "metadata": {
        "id": "kPwaM4FvZDt2"
      },
      "source": [
        "## Part 1: Linear Algebra"
      ]
    },
    {
      "cell_type": "markdown",
      "metadata": {
        "id": "HflpDn7NhcP4"
      },
      "source": [
        "### **Singular Value Decomposition (SVD)**"
      ]
    },
    {
      "cell_type": "markdown",
      "metadata": {
        "id": "BTdxt753ZQez"
      },
      "source": [
        "In order to extract information from a given matrix, we can use the SVD to obtain 3 arrays which can be multiplied to obtain the original matrix A. From the theory of linear algebra, given a matrix \n",
        ", the following product can be computed:\n",
        "\n",
        "<div align=\"center\">\n",
        " $ U\\Sigma V^T  = A$\n",
        "</div>\n",
        "\n",
        "where U and V are square and $ \\Sigma $ is the same size as A. $ \\Sigma $ is a diagonal matrix and contains the [singular values](https://www.mathworks.com/content/dam/mathworks/mathworks-dot-com/moler/eigs.pdf) of A, organized from largest to smallest. These values are always non-negative and can be used as an indicator of the “importance” of some features represented by the matrix  $ \\Sigma $ .\n",
        "\n",
        "The problem of finding matrices U, V and $ \\Sigma $ given any matrix A is known as **Singular Value Decomposition**.\n",
        "\n",
        "---\n",
        "\n",
        "Numpy provides an easy and effecient function to directly get the singular decomposition of any matrix"
      ]
    },
    {
      "cell_type": "code",
      "metadata": {
        "colab": {
          "base_uri": "https://localhost:8080/"
        },
        "id": "6_yeva3qWZAF",
        "outputId": "143ab242-c869-4f69-9426-1db23b1a1053"
      },
      "source": [
        "import numpy as np\n",
        "\n",
        "A = np.asarray([[1, 0, 0], [0, 1, 0]])\n",
        "\n",
        "U, s, Vt = np.linalg.svd(A)\n",
        "\n",
        "# s is a space efficient representation of the diagonal matrix\n",
        "# the next 3 lines convert s to the actual matrix Sigma\n",
        "Sigma = np.zeros((A.shape))\n",
        "for i in range(s.shape[0]):\n",
        "    Sigma[i, i] = s[i]\n",
        "\n",
        "\n",
        "# Ignore -- only to make output \n",
        "print(\"The original matrix is: \\n\", A)\n",
        "print(\"\\nThe SVD is: \\n\", U, \"\\n * \\n\", Sigma, \"\\n * \\n\", Vt)"
      ],
      "execution_count": 42,
      "outputs": [
        {
          "output_type": "stream",
          "text": [
            "The original matrix is: \n",
            " [[1 0 0]\n",
            " [0 1 0]]\n",
            "\n",
            "The SVD is: \n",
            " [[1. 0.]\n",
            " [0. 1.]] \n",
            " * \n",
            " [[1. 0. 0.]\n",
            " [0. 1. 0.]] \n",
            " * \n",
            " [[1. 0. 0.]\n",
            " [0. 1. 0.]\n",
            " [0. 0. 1.]]\n"
          ],
          "name": "stdout"
        }
      ]
    },
    {
      "cell_type": "code",
      "metadata": {
        "colab": {
          "base_uri": "https://localhost:8080/"
        },
        "id": "nyC4LyX4cooh",
        "outputId": "1f58af75-9ee0-4134-d44a-1e49a585bc53"
      },
      "source": [
        "print(\"U*Sigma*Vt is: \\n\", np.matmul(np.matmul(U, Sigma), Vt))"
      ],
      "execution_count": 23,
      "outputs": [
        {
          "output_type": "stream",
          "text": [
            "U*Sigma*Vt is: \n",
            " [[1. 0. 0.]\n",
            " [0. 1. 0.]]\n"
          ],
          "name": "stdout"
        }
      ]
    },
    {
      "cell_type": "markdown",
      "metadata": {
        "id": "kEGr9uP6hRgL"
      },
      "source": [
        "Note that this is equal to the original matrix A.\n"
      ]
    },
    {
      "cell_type": "markdown",
      "metadata": {
        "id": "WwwUwdQdkfrE"
      },
      "source": [
        "### **QR Decomposition**"
      ]
    },
    {
      "cell_type": "markdown",
      "metadata": {
        "id": "nhJ9cR5WhkOL"
      },
      "source": [
        "Any real square matrix A may be decomposed as\n",
        "$ A=QR$\n",
        "where Q is an orthogonal matrix meaning $ Q^T = Q^{−1} $ and $ R$ is an upper triangular matrix. \n",
        "\n",
        "This is called QR decomposition.\n",
        "\n",
        "---\n",
        "Again, getting the QR decomposition is made much simpler by numpy."
      ]
    },
    {
      "cell_type": "code",
      "metadata": {
        "colab": {
          "base_uri": "https://localhost:8080/"
        },
        "id": "zE54F967hlu5",
        "outputId": "08642c0a-a721-4bc6-af0c-c9d1126cd8d5"
      },
      "source": [
        "import numpy as np\n",
        "\n",
        "A = np.asarray([[1, 2, 3], [0, 4, 5], [0, 0, 6]])\n",
        "Q, R = np.linalg.qr(A)\n",
        "\n",
        "\n",
        "print(Q)\n",
        "print(R)\n",
        "\n",
        "# Lets check whether the decomposition matrices are actually correct\n",
        "print(np.matmul(Q, R))"
      ],
      "execution_count": 43,
      "outputs": [
        {
          "output_type": "stream",
          "text": [
            "[[1. 0. 0.]\n",
            " [0. 1. 0.]\n",
            " [0. 0. 1.]]\n",
            "[[1. 2. 3.]\n",
            " [0. 4. 5.]\n",
            " [0. 0. 6.]]\n",
            "[[1. 2. 3.]\n",
            " [0. 4. 5.]\n",
            " [0. 0. 6.]]\n"
          ],
          "name": "stdout"
        }
      ]
    },
    {
      "cell_type": "markdown",
      "metadata": {
        "id": "bmASsecSlPOy"
      },
      "source": [
        "Note that Q is orthogonal, R is upper triangular, and Q*R = A"
      ]
    },
    {
      "cell_type": "markdown",
      "metadata": {
        "id": "AznLpH9rklez"
      },
      "source": [
        "### **Principle Component Analysis (PCA)**"
      ]
    },
    {
      "cell_type": "markdown",
      "metadata": {
        "id": "SgjjaaL4kovV"
      },
      "source": [
        "Principal component analysis (PCA) is the process of computing the principal components and using them to perform a change of basis on the data, sometimes using only the first few principal components and ignoring the rest"
      ]
    },
    {
      "cell_type": "code",
      "metadata": {
        "id": "mXLWJb2ikmlO"
      },
      "source": [
        ""
      ],
      "execution_count": null,
      "outputs": []
    },
    {
      "cell_type": "markdown",
      "metadata": {
        "id": "1x_aXOuQm8VV"
      },
      "source": [
        "## Part 2: Probability and Statistics"
      ]
    },
    {
      "cell_type": "markdown",
      "metadata": {
        "id": "5hKDlG4_qBps"
      },
      "source": [
        "### Gaussian (Normal) Distributions"
      ]
    },
    {
      "cell_type": "markdown",
      "metadata": {
        "id": "PRHTt7vuuCMg"
      },
      "source": [
        "A Normal Distribution follows the probability density function: \n",
        "\n",
        "$ f(x) = (1/ \\sigma \\sqrt{2\\pi})  e ^{(-1/2)((x-\\mu)/\\sigma)^2} $\n",
        "\n",
        "where $ \\mu$ is the mean of the distribution and $\\sigma $ is the standard deviation"
      ]
    },
    {
      "cell_type": "code",
      "metadata": {
        "id": "QcynxyiFnAfi"
      },
      "source": [
        "import numpy as np\n",
        "\n",
        "# mean and standard deviation\n",
        "mu, sigma = 0, 0.1 \n",
        "s = np.random.normal(mu, sigma, 10000)"
      ],
      "execution_count": 3,
      "outputs": []
    },
    {
      "cell_type": "code",
      "metadata": {
        "colab": {
          "base_uri": "https://localhost:8080/",
          "height": 265
        },
        "id": "qQD2X93iriCj",
        "outputId": "c9a25490-6b3d-495c-a3ec-5512bcaf464d"
      },
      "source": [
        "import matplotlib.pyplot as plt\n",
        "\n",
        "plt.hist(s, bins=50)\n",
        "plt.show()"
      ],
      "execution_count": 4,
      "outputs": [
        {
          "output_type": "display_data",
          "data": {
            "image/png": "[encoded data removed]",
            "text/plain": [
              "<Figure size 432x288 with 1 Axes>"
            ]
          },
          "metadata": {
            "tags": [],
            "needs_background": "light"
          }
        }
      ]
    },
    {
      "cell_type": "code",
      "metadata": {
        "colab": {
          "base_uri": "https://localhost:8080/",
          "height": 1000
        },
        "id": "kZRLuSAvrsfz",
        "outputId": "501fcd54-2335-454d-ad51-175d7b24362f"
      },
      "source": [
        "for i in range(1, 6):\n",
        "    mu, sigma = 0, 0.1 \n",
        "    s = np.random.normal(mu, sigma, 10**i)\n",
        "\n",
        "    print(\"Gaussian distribution curve for \", 10**i, \" samples\")\n",
        "\n",
        "    plt.hist(s, bins=50)\n",
        "    plt.show()"
      ],
      "execution_count": 7,
      "outputs": [
        {
          "output_type": "stream",
          "text": [
            "Gaussian distribution curve for  10  samples\n"
          ],
          "name": "stdout"
        },
        {
          "output_type": "display_data",
          "data": {
            "image/png": "[encoded data removed]",
            "text/plain": [
              "<Figure size 432x288 with 1 Axes>"
            ]
          },
          "metadata": {
            "tags": [],
            "needs_background": "light"
          }
        },
        {
          "output_type": "stream",
          "text": [
            "Gaussian distribution curve for  100  samples\n"
          ],
          "name": "stdout"
        },
        {
          "output_type": "display_data",
          "data": {
            "image/png": "[encoded data removed]",
            "text/plain": [
              "<Figure size 432x288 with 1 Axes>"
            ]
          },
          "metadata": {
            "tags": [],
            "needs_background": "light"
          }
        },
        {
          "output_type": "stream",
          "text": [
            "Gaussian distribution curve for  1000  samples\n"
          ],
          "name": "stdout"
        },
        {
          "output_type": "display_data",
          "data": {
            "image/png": "[encoded data removed]",
            "text/plain": [
              "<Figure size 432x288 with 1 Axes>"
            ]
          },
          "metadata": {
            "tags": [],
            "needs_background": "light"
          }
        },
        {
          "output_type": "stream",
          "text": [
            "Gaussian distribution curve for  10000  samples\n"
          ],
          "name": "stdout"
        },
        {
          "output_type": "display_data",
          "data": {
            "image/png": "[encoded data removed]",
            "text/plain": [
              "<Figure size 432x288 with 1 Axes>"
            ]
          },
          "metadata": {
            "tags": [],
            "needs_background": "light"
          }
        },
        {
          "output_type": "stream",
          "text": [
            "Gaussian distribution curve for  100000  samples\n"
          ],
          "name": "stdout"
        },
        {
          "output_type": "display_data",
          "data": {
            "image/png": "[encoded data removed]",
            "text/plain": [
              "<Figure size 432x288 with 1 Axes>"
            ]
          },
          "metadata": {
            "tags": [],
            "needs_background": "light"
          }
        }
      ]
    },
    {
      "cell_type": "markdown",
      "metadata": {
        "id": "j1Ri_DsbwAtT"
      },
      "source": [
        "As can be seen above, for small number of samples, the distributions seems random, but as the number of samples increases, a bell-shaped patterns appears"
      ]
    },
    {
      "cell_type": "code",
      "metadata": {
        "id": "jmLYULnYtTAK"
      },
      "source": [
        ""
      ],
      "execution_count": null,
      "outputs": []
    },
    {
      "cell_type": "markdown",
      "metadata": {
        "id": "eHFXT9r6vkK8"
      },
      "source": [
        "### Poisson Distribution"
      ]
    },
    {
      "cell_type": "code",
      "metadata": {
        "id": "s0op0amUvmgg"
      },
      "source": [
        "import numpy as np\n",
        "\n",
        "lamda = 1000\n",
        "size = 1000\n",
        "poisson = np.random.poisson(lam=lamda, size=size)"
      ],
      "execution_count": 54,
      "outputs": []
    },
    {
      "cell_type": "code",
      "metadata": {
        "colab": {
          "base_uri": "https://localhost:8080/",
          "height": 265
        },
        "id": "eAFEUOAvv_D5",
        "outputId": "a4d37461-02d5-433a-810b-6ec9832cbcf8"
      },
      "source": [
        "import matplotlib.pyplot as plt\n",
        "\n",
        "plt.hist(poisson, bins=50)\n",
        "plt.show()\n"
      ],
      "execution_count": 55,
      "outputs": [
        {
          "output_type": "display_data",
          "data": {
            "image/png": "[encoded data removed]",
            "text/plain": [
              "<Figure size 432x288 with 1 Axes>"
            ]
          },
          "metadata": {
            "tags": [],
            "needs_background": "light"
          }
        }
      ]
    },
    {
      "cell_type": "code",
      "metadata": {
        "id": "AgD8GOTsyONp"
      },
      "source": [
        ""
      ],
      "execution_count": null,
      "outputs": []
    },
    {
      "cell_type": "markdown",
      "metadata": {
        "id": "WaH2LAjh2P5X"
      },
      "source": [
        "### Naive Bayes Classifier"
      ]
    },
    {
      "cell_type": "code",
      "metadata": {
        "id": "KJmGxnwL2WKU"
      },
      "source": [
        ""
      ],
      "execution_count": null,
      "outputs": []
    }
  ]
}